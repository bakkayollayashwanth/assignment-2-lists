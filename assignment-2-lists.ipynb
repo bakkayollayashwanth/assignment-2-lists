{
 "cells": [
  {
   "cell_type": "code",
   "execution_count": 1,
   "id": "bd54075d",
   "metadata": {},
   "outputs": [
    {
     "name": "stdout",
     "output_type": "stream",
     "text": [
      "addition of list items is  10\n",
      "multiplication of list items is  24\n"
     ]
    }
   ],
   "source": [
    "l=[1,2,3,4] #1st question\n",
    "k=0\n",
    "m=1\n",
    "for i in range(len(l)+1):\n",
    "    k+=i\n",
    "print('addition of list items is ',k)\n",
    "for i in range(len(l)):\n",
    "    m*=i+1\n",
    "print('multiplication of list items is ',m)"
   ]
  },
  {
   "cell_type": "code",
   "execution_count": 2,
   "id": "75d0a2c9",
   "metadata": {},
   "outputs": [
    {
     "name": "stdout",
     "output_type": "stream",
     "text": [
      "True\n",
      "True\n"
     ]
    }
   ],
   "source": [
    "l1=[1,2,3,4]\n",
    "l2=[3,4,6,7]\n",
    "for i in range(len(l1)+1):\n",
    "    if i in l2:\n",
    "        print(True)        "
   ]
  },
  {
   "cell_type": "code",
   "execution_count": 3,
   "id": "82feeb0b",
   "metadata": {},
   "outputs": [
    {
     "data": {
      "text/plain": [
       "['white', 'blue', 'yellow']"
      ]
     },
     "execution_count": 3,
     "metadata": {},
     "output_type": "execute_result"
    }
   ],
   "source": [
    "l3=['red','white','blue','yellow']\n",
    "l4=['red','black','orange']\n",
    "for i in l3:\n",
    "    if i  in l4:\n",
    "        l3.remove(i)\n",
    "l3        "
   ]
  },
  {
   "cell_type": "code",
   "execution_count": 4,
   "id": "f1fb9e64",
   "metadata": {},
   "outputs": [
    {
     "data": {
      "text/plain": [
       "['black', 'orange']"
      ]
     },
     "execution_count": 4,
     "metadata": {},
     "output_type": "execute_result"
    }
   ],
   "source": [
    "l3=['red','white','blue','yellow']\n",
    "l4=['red','black','orange']\n",
    "for i in l4:\n",
    "    if i  in l3:\n",
    "        l4.remove(i)\n",
    "l4"
   ]
  },
  {
   "cell_type": "code",
   "execution_count": null,
   "id": "5a8e4a65",
   "metadata": {},
   "outputs": [],
   "source": []
  }
 ],
 "metadata": {
  "kernelspec": {
   "display_name": "Python 3 (ipykernel)",
   "language": "python",
   "name": "python3"
  },
  "language_info": {
   "codemirror_mode": {
    "name": "ipython",
    "version": 3
   },
   "file_extension": ".py",
   "mimetype": "text/x-python",
   "name": "python",
   "nbconvert_exporter": "python",
   "pygments_lexer": "ipython3",
   "version": "3.9.13"
  }
 },
 "nbformat": 4,
 "nbformat_minor": 5
}
